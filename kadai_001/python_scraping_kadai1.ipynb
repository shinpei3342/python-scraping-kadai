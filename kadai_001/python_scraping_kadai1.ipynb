{
  "nbformat": 4,
  "nbformat_minor": 0,
  "metadata": {
    "colab": {
      "provenance": []
    },
    "kernelspec": {
      "name": "python3",
      "display_name": "Python 3"
    },
    "language_info": {
      "name": "python"
    }
  },
  "cells": [
    {
      "cell_type": "code",
      "execution_count": 2,
      "metadata": {
        "colab": {
          "base_uri": "https://localhost:8080/"
        },
        "id": "kIQuEZuNOvcU",
        "outputId": "484de930-0211-4b48-ec4b-58d6fb1283d7"
      },
      "outputs": [
        {
          "output_type": "stream",
          "name": "stdout",
          "text": [
            "Requirement already satisfied: requests in /usr/local/lib/python3.11/dist-packages (2.32.3)\n",
            "Requirement already satisfied: beautifulsoup4 in /usr/local/lib/python3.11/dist-packages (4.13.3)\n",
            "Requirement already satisfied: charset-normalizer<4,>=2 in /usr/local/lib/python3.11/dist-packages (from requests) (3.4.1)\n",
            "Requirement already satisfied: idna<4,>=2.5 in /usr/local/lib/python3.11/dist-packages (from requests) (3.10)\n",
            "Requirement already satisfied: urllib3<3,>=1.21.1 in /usr/local/lib/python3.11/dist-packages (from requests) (2.3.0)\n",
            "Requirement already satisfied: certifi>=2017.4.17 in /usr/local/lib/python3.11/dist-packages (from requests) (2025.1.31)\n",
            "Requirement already satisfied: soupsieve>1.2 in /usr/local/lib/python3.11/dist-packages (from beautifulsoup4) (2.6)\n",
            "Requirement already satisfied: typing-extensions>=4.0.0 in /usr/local/lib/python3.11/dist-packages (from beautifulsoup4) (4.12.2)\n"
          ]
        }
      ],
      "source": [
        "pip install requests beautifulsoup4"
      ]
    },
    {
      "cell_type": "code",
      "source": [
        "import requests\n",
        "from bs4 import BeautifulSoup\n",
        "\n",
        "# スクレイピング対象のURL\n",
        "url = \"https://news.yahoo.co.jp/articles/1f70d155d8df3d70bd0427547d12676b7c885a16\"\n",
        "\n",
        "# Webページにアクセス\n",
        "response = requests.get(url)\n",
        "\n",
        "# HTMLを解析\n",
        "soup = BeautifulSoup(response.text, \"html.parser\")\n",
        "\n",
        "# 記事タイトルを取得\n",
        "title = soup.find(\"title\").text\n",
        "\n",
        "# 記事本文を取得（例として<p>タグ内のテキストを取得）\n",
        "content = soup.find(\"p\",class_=\"sc-54nboa-0 deLyrJ yjSlinkDirectlink highLightSearchTarget\")\n",
        "print(content.text)\n"
      ],
      "metadata": {
        "colab": {
          "base_uri": "https://localhost:8080/"
        },
        "id": "dUxp3-A5Rv3c",
        "outputId": "2e919c44-5329-42aa-d84f-894521047809"
      },
      "execution_count": 15,
      "outputs": [
        {
          "output_type": "stream",
          "name": "stdout",
          "text": [
            "　28日にミャンマー中部を襲った地震から、3日目を迎えた。今も被災者が余震によるさらなる建物の倒壊を恐れ、屋外での避難生活を余儀なくされている。帰宅のめどは立たず、今後を見通せない不安の時間が続いている。\n",
            "\n",
            "【イメージ図】断層破壊200キロ超　200年地震なかった「空白域」\n",
            "\n",
            "　首都ネピドー郊外のピンマナーでは、通りの左右に倒壊した建物が並んでいた。首都の近くで、最も大きな地震の被害があった地域とみられる。\n",
            "\n",
            "　路上で30人ほどが椅子に座り、心配そうに半壊した建物を見つめていた。その建物の住人で、自営業のティティハンさん（53）は「余震で倒壊の恐れがあるから、警察から『外にいなさい』と言われている」と話す。今は屋外に避難しているが、必要な物資を取りに行くとき、短時間だけ自宅に戻る。\n",
            "\n",
            "　地震で大きな横揺れを感じた後、地下で爆発が起きたような突き上げを感じた。街全体の状況は分からないが、ティティハンさんは「近所だけで40人ほどが亡くなった」と言う。\n",
            "\n",
            "　ミャンマーでは小さな地震が起きることはあるが、今回のような大規模な揺れは異例だ。\n"
          ]
        }
      ]
    },
    {
      "cell_type": "code",
      "source": [
        "!pip install beautifulsoup4"
      ],
      "metadata": {
        "colab": {
          "base_uri": "https://localhost:8080/"
        },
        "id": "dU7h19STUnPy",
        "outputId": "92d6f002-cd0c-421c-b911-18d9dc156909"
      },
      "execution_count": 4,
      "outputs": [
        {
          "output_type": "stream",
          "name": "stdout",
          "text": [
            "Requirement already satisfied: beautifulsoup4 in /usr/local/lib/python3.11/dist-packages (4.13.3)\n",
            "Requirement already satisfied: soupsieve>1.2 in /usr/local/lib/python3.11/dist-packages (from beautifulsoup4) (2.6)\n",
            "Requirement already satisfied: typing-extensions>=4.0.0 in /usr/local/lib/python3.11/dist-packages (from beautifulsoup4) (4.12.2)\n"
          ]
        }
      ]
    }
  ]
}