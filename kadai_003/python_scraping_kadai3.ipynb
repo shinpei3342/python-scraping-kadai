{
  "nbformat": 4,
  "nbformat_minor": 0,
  "metadata": {
    "colab": {
      "provenance": []
    },
    "kernelspec": {
      "name": "python3",
      "display_name": "Python 3"
    },
    "language_info": {
      "name": "python"
    }
  },
  "cells": [
    {
      "cell_type": "code",
      "execution_count": null,
      "metadata": {
        "colab": {
          "base_uri": "https://localhost:8080/"
        },
        "id": "hXo1KqvzJCFZ",
        "outputId": "c77832e2-c116-45fb-c842-3aeccd81a6b3"
      },
      "outputs": [
        {
          "output_type": "stream",
          "name": "stdout",
          "text": [
            "Collecting selenium\n",
            "  Downloading selenium-4.31.0-py3-none-any.whl.metadata (7.5 kB)\n",
            "Requirement already satisfied: urllib3<3,>=1.26 in /usr/local/lib/python3.11/dist-packages (from urllib3[socks]<3,>=1.26->selenium) (2.3.0)\n",
            "Collecting trio~=0.17 (from selenium)\n",
            "  Downloading trio-0.29.0-py3-none-any.whl.metadata (8.5 kB)\n",
            "Collecting trio-websocket~=0.9 (from selenium)\n",
            "  Downloading trio_websocket-0.12.2-py3-none-any.whl.metadata (5.1 kB)\n",
            "Requirement already satisfied: certifi>=2021.10.8 in /usr/local/lib/python3.11/dist-packages (from selenium) (2025.1.31)\n",
            "Requirement already satisfied: typing_extensions~=4.9 in /usr/local/lib/python3.11/dist-packages (from selenium) (4.13.0)\n",
            "Requirement already satisfied: websocket-client~=1.8 in /usr/local/lib/python3.11/dist-packages (from selenium) (1.8.0)\n",
            "Requirement already satisfied: attrs>=23.2.0 in /usr/local/lib/python3.11/dist-packages (from trio~=0.17->selenium) (25.3.0)\n",
            "Requirement already satisfied: sortedcontainers in /usr/local/lib/python3.11/dist-packages (from trio~=0.17->selenium) (2.4.0)\n",
            "Requirement already satisfied: idna in /usr/local/lib/python3.11/dist-packages (from trio~=0.17->selenium) (3.10)\n",
            "Collecting outcome (from trio~=0.17->selenium)\n",
            "  Downloading outcome-1.3.0.post0-py2.py3-none-any.whl.metadata (2.6 kB)\n",
            "Requirement already satisfied: sniffio>=1.3.0 in /usr/local/lib/python3.11/dist-packages (from trio~=0.17->selenium) (1.3.1)\n",
            "Collecting wsproto>=0.14 (from trio-websocket~=0.9->selenium)\n",
            "  Downloading wsproto-1.2.0-py3-none-any.whl.metadata (5.6 kB)\n",
            "Requirement already satisfied: pysocks!=1.5.7,<2.0,>=1.5.6 in /usr/local/lib/python3.11/dist-packages (from urllib3[socks]<3,>=1.26->selenium) (1.7.1)\n",
            "Requirement already satisfied: h11<1,>=0.9.0 in /usr/local/lib/python3.11/dist-packages (from wsproto>=0.14->trio-websocket~=0.9->selenium) (0.14.0)\n",
            "Downloading selenium-4.31.0-py3-none-any.whl (9.4 MB)\n",
            "\u001b[2K   \u001b[90m━━━━━━━━━━━━━━━━━━━━━━━━━━━━━━━━━━━━━━━━\u001b[0m \u001b[32m9.4/9.4 MB\u001b[0m \u001b[31m61.1 MB/s\u001b[0m eta \u001b[36m0:00:00\u001b[0m\n",
            "\u001b[?25hDownloading trio-0.29.0-py3-none-any.whl (492 kB)\n",
            "\u001b[2K   \u001b[90m━━━━━━━━━━━━━━━━━━━━━━━━━━━━━━━━━━━━━━━━\u001b[0m \u001b[32m492.9/492.9 kB\u001b[0m \u001b[31m28.2 MB/s\u001b[0m eta \u001b[36m0:00:00\u001b[0m\n",
            "\u001b[?25hDownloading trio_websocket-0.12.2-py3-none-any.whl (21 kB)\n",
            "Downloading outcome-1.3.0.post0-py2.py3-none-any.whl (10 kB)\n",
            "Downloading wsproto-1.2.0-py3-none-any.whl (24 kB)\n",
            "Installing collected packages: wsproto, outcome, trio, trio-websocket, selenium\n",
            "Successfully installed outcome-1.3.0.post0 selenium-4.31.0 trio-0.29.0 trio-websocket-0.12.2 wsproto-1.2.0\n"
          ]
        }
      ],
      "source": [
        "!pip install selenium"
      ]
    },
    {
      "cell_type": "code",
      "source": [
        "# 必要なライブラリをインポート\n",
        "from selenium import webdriver\n",
        "from selenium.webdriver.common.by import By\n",
        "from selenium.webdriver.support.ui import WebDriverWait\n",
        "from selenium.webdriver.support import expected_conditions as EC\n",
        "from getpass import getpass\n",
        "\n",
        "# ヘッドレスモードで起動するためのオプションを設定\n",
        "chrome_options = webdriver.ChromeOptions()\n",
        "chrome_options.add_argument('--headless')\n",
        "chrome_options.add_argument('--no-sandbox')\n",
        "chrome_options.add_argument('--disable-dev-shm-usage')\n",
        "\n",
        "# Chromeを立ち上げる\n",
        "chrome_driver = webdriver.Chrome(options=chrome_options)\n",
        "\n",
        "# TERAKOYAのトップページにアクセス\n",
        "chrome_driver.get('https://terakoya.sejuku.net/')\n",
        "\n",
        "# 最大30秒間、ログインボタンが表示されるのを待つ\n",
        "login_button = WebDriverWait(chrome_driver, 30).until(EC.visibility_of_element_located((By.CSS_SELECTOR,\"#root > header > div > div > div.sc-iMXEkR.dPLPhQ > div.sc-eeWQrC.sc-cSYhcM.eNGzRc.iga-dZZ\")))\n",
        "\n",
        "# ログインボタンをクリックする\n",
        "login_button.click()\n",
        "\n",
        "# メールアドレスとパスワードの入力欄を見つける\n",
        "parent_element = chrome_driver.find_element(By.CSS_SELECTOR,\".sc-cUzBaJ.fIBLAz\")\n",
        "email_input = parent_element.find_element(By.NAME, 'email')\n",
        "password_input = parent_element.find_element(By.NAME, 'password')\n",
        "\n",
        "# メールアドレスとパスワードを設定\n",
        "email_input.send_keys(\"shinpei3342@outlook.com\")\n",
        "password_input.send_keys(\"Snpi0302\")\n",
        "\n",
        "#ログイン\n",
        "click_button = WebDriverWait(chrome_driver, 30).until(EC.visibility_of_element_located((By.CSS_SELECTOR,\"#root > div.sc-jRLeyu.gjFPjJ > div.sc-jOTjWM.kBmwYN >\"\"div.sc-cXrvCr.ebFYYm > button\")))\n",
        "click_button.click()\n",
        "\n",
        "#マイページログイン\n",
        "mypage = WebDriverWait(chrome_driver,30).until(EC.visibility_of_element_located((By.CSS_SELECTOR,\"#root > div.sc-ljKBiE.hkqZbQ > div > div > header > div.sc-gCDhWw.bjkBNx > div.sc-cqOhax.ibeApe > div\")))\n",
        "mypage.click()\n",
        "mypage = WebDriverWait(chrome_driver,30).until(EC.visibility_of_element_located((By.CSS_SELECTOR,\"#root > div.sc-ljKBiE.hkqZbQ > div > div > header > div.sc-haKRZC.iHUxlD > ul > a:nth-child(1) > li\")))\n",
        "mypage.click()\n",
        "\n",
        "#編集ボタンクリック\n",
        "mypage = WebDriverWait(chrome_driver,30).until(EC.visibility_of_element_located((By.CSS_SELECTOR,\"#root > div.sc-mQJSM.dPUAET > div > div > main > div > div.sc-cIWdEq.eQBATC > button\")))\n",
        "mypage.click()\n",
        "\n",
        "#自己紹介文の記入\n",
        "shoukai_input = WebDriverWait(chrome_driver,30).until(EC.visibility_of_element_located((By.CSS_SELECTOR,\"#root > div.sc-mQJSM.dPUAET > div > div > main > div > div.sc-cIWdEq.eQBATC > div:nth-child(10) > div.sc-dNyCar.eYrlPb > textarea\")))\n",
        "shoukai_input.send_keys(\"プログラミング学習中です！今はスクレイピングに挑戦しています！\")\n",
        "\n",
        "#更新\n",
        "kousin = WebDriverWait(chrome_driver,30).until(EC.visibility_of_element_located((By.CSS_SELECTOR,\"#root > div.sc-mQJSM.dPUAET > div > div > main > div > div.sc-cIWdEq.eQBATC > button.sc-dOfePm.gOFQQm.sc-hAAosi.dCSKPs\")))\n",
        "kousin.click()"
      ],
      "metadata": {
        "id": "gmTJFWJodBZc"
      },
      "execution_count": 9,
      "outputs": []
    }
  ]
}